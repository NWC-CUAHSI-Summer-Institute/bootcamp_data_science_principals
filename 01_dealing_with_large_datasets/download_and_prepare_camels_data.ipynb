{
 "cells": [
  {
   "attachments": {},
   "cell_type": "markdown",
   "metadata": {},
   "source": [
    "# Download and process static data\n",
    "This notebook downloads static data sources, loads them into memory, cleans that data then saves a cleaned data product, which may be used lateron for some analysis.\n"
   ]
  },
  {
   "cell_type": "code",
   "execution_count": null,
   "metadata": {},
   "outputs": [],
   "source": [
    "import os\n",
    "import numpy as np\n",
    "import pandas as pd\n",
    "from datetime import datetime"
   ]
  },
  {
   "attachments": {},
   "cell_type": "markdown",
   "metadata": {},
   "source": [
    "# Download files from on-line host.\n",
    "Including this step in the pipeline ensures that the data processing steps are reproducible. \n",
    "This will save the severe headache that comes from trying to share a particular cleaned data products."
   ]
  },
  {
   "cell_type": "code",
   "execution_count": null,
   "metadata": {},
   "outputs": [],
   "source": [
    "%%bash\n",
    "DATA_DIR=\"../data/camels/\"\n",
    "if [ -d \"$DATA_DIR\" ]; then rm -Rf $DATA_DIR; fi\n",
    "mkdir $DATA_DIR\n",
    "filenames=(camels_clim.txt camels_geol.txt camels_hydro.txt camels_name.txt camels_soil.txt camels_topo.txt camels_vege.txt)\n",
    "for filename in ${filenames[@]}\n",
    "do \n",
    "    wget -O \"${DATA_DIR}${filename}\" \"https://gdex.ucar.edu/dataset/camels/file/${filename}\"\n",
    "done"
   ]
  },
  {
   "attachments": {},
   "cell_type": "markdown",
   "metadata": {},
   "source": [
    "# share the processing code, rather than the processed data\n",
    "This isn't always feasible, as your datasets grow larger. But, maintaining clean reproducible code from source to product is essential for reproducibility"
   ]
  },
  {
   "cell_type": "code",
   "execution_count": null,
   "metadata": {},
   "outputs": [],
   "source": [
    "filenames=[\"camels_clim.txt\",\n",
    "           \"camels_geol.txt\",\n",
    "           \"camels_hydro.txt\",\n",
    "           \"camels_name.txt\",\n",
    "           \"camels_soil.txt\",\n",
    "           \"camels_topo.txt\",\n",
    "           \"camels_vege.txt\"]\n",
    "dfs = {}\n",
    "for filename in filenames:\n",
    "    with open(f\"../data/camels/{filename}\", \"r\") as f:\n",
    "        dfs[filename] = pd.read_csv(f, sep=\";\", index_col=\"gauge_id\")\n",
    "df = pd.concat([dfs[filename] for filename in filenames], axis=1)"
   ]
  },
  {
   "attachments": {},
   "cell_type": "markdown",
   "metadata": {},
   "source": [
    "# What to do with text data and NaNs\n",
    "When we bring in all the data into a single dataframe, we see that there are values with text data and NaN values. For the example we will be working with, these data will not help us. We need complete data (no NaNs), and we need continuous real numbers (bounded is okay)."
   ]
  },
  {
   "cell_type": "code",
   "execution_count": null,
   "metadata": {},
   "outputs": [],
   "source": [
    "df.head()"
   ]
  },
  {
   "attachments": {},
   "cell_type": "markdown",
   "metadata": {},
   "source": [
    "# Clean the data for our hypothetical analysis\n",
    "Sometimes NaN values are perfectly fine, and they are perfectly natural, but for this example, we'll remove them"
   ]
  },
  {
   "cell_type": "code",
   "execution_count": null,
   "metadata": {},
   "outputs": [],
   "source": [
    "df = df.dropna(axis=1)"
   ]
  },
  {
   "attachments": {},
   "cell_type": "markdown",
   "metadata": {},
   "source": [
    "# Clean the data for our hypothetical analysis\n",
    "Sometimes One Hot Data are perfectly fine, and they are perfectly natural, but for this example, we'll remove them as well."
   ]
  },
  {
   "cell_type": "code",
   "execution_count": null,
   "metadata": {},
   "outputs": [],
   "source": [
    "drop_these_columns = []\n",
    "for camels_data_column in df.columns.values:\n",
    "    if type(df[camels_data_column].values[0]) == str:\n",
    "        drop_these_columns.append(camels_data_column)\n",
    "df = df.drop(drop_these_columns, axis=1)"
   ]
  },
  {
   "attachments": {},
   "cell_type": "markdown",
   "metadata": {},
   "source": [
    "# Save file with unique name\n",
    "You might end up sharing this file around. It might get copied many times, but then something could change in the cleaning procedure, or new data might be added. In an effort not to get tripped up on different file versions crashing code, name the file something really annoying and specific."
   ]
  },
  {
   "cell_type": "code",
   "execution_count": null,
   "metadata": {},
   "outputs": [],
   "source": [
    "nowstring = datetime.today().strftime(\"%d-%m-%Y_%H%M\")\n",
    "creator_initials = \"jf\"\n",
    "df.to_csv(f\"../data/camels/camels_attributes_cleaned_{nowstring}_{creator_initials}_DO_NOT_COPY.csv\")"
   ]
  }
 ],
 "metadata": {
  "kernelspec": {
   "display_name": "Python 3",
   "language": "python",
   "name": "python3"
  },
  "language_info": {
   "codemirror_mode": {
    "name": "ipython",
    "version": 3
   },
   "file_extension": ".py",
   "mimetype": "text/x-python",
   "name": "python",
   "nbconvert_exporter": "python",
   "pygments_lexer": "ipython3",
   "version": "3.7.9"
  },
  "orig_nbformat": 4
 },
 "nbformat": 4,
 "nbformat_minor": 2
}
