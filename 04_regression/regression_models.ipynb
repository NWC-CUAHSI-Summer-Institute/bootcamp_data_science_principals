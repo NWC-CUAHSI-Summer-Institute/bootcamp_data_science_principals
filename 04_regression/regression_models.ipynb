{
 "cells": [
  {
   "attachments": {},
   "cell_type": "markdown",
   "metadata": {},
   "source": [
    "# Regression models"
   ]
  },
  {
   "cell_type": "code",
   "execution_count": 43,
   "metadata": {},
   "outputs": [
    {
     "ename": "ModuleNotFoundError",
     "evalue": "No module named 'sklearn'",
     "output_type": "error",
     "traceback": [
      "\u001b[0;31m---------------------------------------------------------------------------\u001b[0m",
      "\u001b[0;31mModuleNotFoundError\u001b[0m                       Traceback (most recent call last)",
      "\u001b[0;32m/var/folders/qq/8ghk3pt92vgdzvvbnr7dtrnr0000gn/T/ipykernel_32442/1055239396.py\u001b[0m in \u001b[0;36m<module>\u001b[0;34m\u001b[0m\n\u001b[1;32m      2\u001b[0m \u001b[0;32mimport\u001b[0m \u001b[0mpandas\u001b[0m \u001b[0;32mas\u001b[0m \u001b[0mpd\u001b[0m\u001b[0;34m\u001b[0m\u001b[0;34m\u001b[0m\u001b[0m\n\u001b[1;32m      3\u001b[0m \u001b[0;32mimport\u001b[0m \u001b[0mmatplotlib\u001b[0m\u001b[0;34m.\u001b[0m\u001b[0mpyplot\u001b[0m \u001b[0;32mas\u001b[0m \u001b[0mplt\u001b[0m\u001b[0;34m\u001b[0m\u001b[0;34m\u001b[0m\u001b[0m\n\u001b[0;32m----> 4\u001b[0;31m \u001b[0;32mfrom\u001b[0m \u001b[0msklearn\u001b[0m\u001b[0;34m.\u001b[0m\u001b[0mmodel_selection\u001b[0m \u001b[0;32mimport\u001b[0m \u001b[0mKFold\u001b[0m\u001b[0;34m\u001b[0m\u001b[0;34m\u001b[0m\u001b[0m\n\u001b[0m\u001b[1;32m      5\u001b[0m \u001b[0;31m#from sklearn.gaussian_process import GaussianProcessRegressor\u001b[0m\u001b[0;34m\u001b[0m\u001b[0;34m\u001b[0m\u001b[0;34m\u001b[0m\u001b[0m\n\u001b[1;32m      6\u001b[0m \u001b[0;32mfrom\u001b[0m \u001b[0msklearn\u001b[0m\u001b[0;34m.\u001b[0m\u001b[0mensemble\u001b[0m \u001b[0;32mimport\u001b[0m \u001b[0mRandomForestRegressor\u001b[0m\u001b[0;34m\u001b[0m\u001b[0;34m\u001b[0m\u001b[0m\n",
      "\u001b[0;31mModuleNotFoundError\u001b[0m: No module named 'sklearn'"
     ]
    }
   ],
   "source": [
    "import numpy as np\n",
    "import pandas as pd\n",
    "import matplotlib.pyplot as plt\n",
    "from sklearn.model_selection import KFold\n",
    "#from sklearn.gaussian_process import GaussianProcessRegressor\n",
    "from sklearn.ensemble import RandomForestRegressor\n",
    "from sklearn.gaussian_process.kernels import RBF, WhiteKernel, ConstantKernel as C\n",
    "\n",
    "from pylab import cm\n",
    "from matplotlib import colors as mcol\n",
    "\n",
    "from netCDF4 import Dataset as NetCDFFile"
   ]
  },
  {
   "cell_type": "code",
   "execution_count": 39,
   "metadata": {},
   "outputs": [],
   "source": [
    "with open(\"camels_attributes.csv\", \"r\") as f:\n",
    "    df_attributes = pd.read_csv(f, index_col=\"gauge_id\")\n",
    "with open(\"camels_hydrologic_signatures.csv\", \"r\") as f:\n",
    "    df_hydrologic_signatures = pd.read_csv(f, index_col=\"gauge_id\")\n",
    "with open(\"camels_recurrence_intervals.csv\", \"r\") as f:\n",
    "    df_recurrence_intervals = pd.read_csv(f, index_col=\"gauge_id\")"
   ]
  },
  {
   "cell_type": "code",
   "execution_count": 42,
   "metadata": {},
   "outputs": [],
   "source": [
    "def regress_recurrence(df_attributes, df_recurrence_intervals, target_ri_period):\n",
    "    X=np.array(df_attributes)\n",
    "    y=np.array(df_recurrence_intervals[f\"ri_{target_ri_period}\"])\n",
    "    A=np.array(df_attributes['area_geospa_fabric'])\n",
    "    # SET UP K-FOLD\n",
    "    # Split into training groups\n",
    "    kf = KFold(n_splits=5, shuffle=True)\n",
    "    kf.get_n_splits(X)\n",
    "    # GPR (Kriging) in a K-fold loop\n",
    "    rmse_list = []\n",
    "    r_sq_list = []\n",
    "    for train_index, test_index in kf.split(X):\n",
    "        X_train, X_test = X[train_index], X[test_index]\n",
    "        y_train, y_test = y[train_index], y[test_index]\n",
    "        A_train, A_test = A[train_index], A[test_index]\n",
    "\n",
    "        rf = RandomForestRegressor(n_estimators=100, random_state=42,\n",
    "                                      criterion=\"mae\", min_samples_leaf=1,\n",
    "                                      min_samples_split=2, max_depth=None,\n",
    "                                      min_weight_fraction_leaf=0)\n",
    "\n",
    "        rf.fit(X_train, y_train)\n",
    "\n",
    "        y_hat = rf.predict(X_test) \n",
    "\n",
    "        rmse_list.append(np.sqrt(np.mean((y_test - y_hat)**2)))\n",
    "\n",
    "        correlation_matrix = np.corrcoef(y_test, y_hat)\n",
    "        correlation_xy = correlation_matrix[0,1]\n",
    "        r_sq_list.append(correlation_xy**2)\n",
    "\n",
    "        plt.scatter(y_test/A_test, y_hat/A_test, c=\"b\")\n",
    "        print('rmse: {:.2f}, r-squared: {:.2f}'.format(rmse_list[-1],r_sq_list[-1]))\n",
    "\n",
    "    plt.plot([10,2000],[10,2000], 'k')\n",
    "    plt.xlabel('True values')\n",
    "    plt.ylabel('Predicted values')\n",
    "    plt.title(f\"{target_ri_period}-year recurrence interval (area normalized)\")\n",
    "    plt.xlim([10,2000])\n",
    "    plt.xscale('log')\n",
    "    plt.ylim([10,2000])\n",
    "    plt.yscale('log')\n",
    "    plt.show()\n",
    "    print('Mean values:')\n",
    "    print(f'rmse: {np.mean(rmse_list):.2f}, r-squared: {np.mean(r_sq_list):.2f}')"
   ]
  },
  {
   "cell_type": "code",
   "execution_count": null,
   "metadata": {},
   "outputs": [],
   "source": []
  }
 ],
 "metadata": {
  "kernelspec": {
   "display_name": "Python 3",
   "language": "python",
   "name": "python3"
  },
  "language_info": {
   "codemirror_mode": {
    "name": "ipython",
    "version": 3
   },
   "file_extension": ".py",
   "mimetype": "text/x-python",
   "name": "python",
   "nbconvert_exporter": "python",
   "pygments_lexer": "ipython3",
   "version": "3.7.9"
  },
  "orig_nbformat": 4
 },
 "nbformat": 4,
 "nbformat_minor": 2
}
